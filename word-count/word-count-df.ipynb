{
 "cells": [
  {
   "cell_type": "code",
   "execution_count": 1,
   "id": "0dd90709",
   "metadata": {},
   "outputs": [
    {
     "name": "stderr",
     "output_type": "stream",
     "text": [
      "Setting default log level to \"WARN\".\n",
      "To adjust logging level use sc.setLogLevel(newLevel). For SparkR, use setLogLevel(newLevel).\n"
     ]
    },
    {
     "name": "stdout",
     "output_type": "stream",
     "text": [
      "23/01/17 23:12:38 WARN NativeCodeLoader: Unable to load native-hadoop library for your platform... using builtin-java classes where applicable\n"
     ]
    }
   ],
   "source": [
    "from pyspark.sql import SparkSession, functions as func\n",
    "spark = SparkSession.builder.appName(\"WordCount\").getOrCreate()"
   ]
  },
  {
   "cell_type": "code",
   "execution_count": 2,
   "id": "34195729",
   "metadata": {},
   "outputs": [],
   "source": [
    "inputDF = spark.read.text(\"Book.txt\")"
   ]
  },
  {
   "cell_type": "code",
   "execution_count": 3,
   "id": "eefe5e33",
   "metadata": {},
   "outputs": [
    {
     "name": "stdout",
     "output_type": "stream",
     "text": [
      "+--------------------+\n",
      "|               value|\n",
      "+--------------------+\n",
      "|Self-Employment: ...|\n",
      "|Achieving Financi...|\n",
      "|       By Frank Kane|\n",
      "|                    |\n",
      "|                    |\n",
      "|                    |\n",
      "|Copyright � 2015 ...|\n",
      "|All rights reserv...|\n",
      "|                    |\n",
      "|                    |\n",
      "|            CONTENTS|\n",
      "|          Disclaimer|\n",
      "|             Preface|\n",
      "|Part I: Making th...|\n",
      "|  Overcoming Inertia|\n",
      "|     Fear of Failure|\n",
      "|Career Indoctrina...|\n",
      "|The Carrot on a S...|\n",
      "|      Ego Protection|\n",
      "|Your Employer as ...|\n",
      "+--------------------+\n",
      "only showing top 20 rows\n",
      "\n"
     ]
    }
   ],
   "source": [
    "inputDF.show()"
   ]
  },
  {
   "cell_type": "code",
   "execution_count": 4,
   "id": "dc2b1783",
   "metadata": {},
   "outputs": [
    {
     "data": {
      "text/plain": [
       "DataFrame[word: string]"
      ]
     },
     "execution_count": 4,
     "metadata": {},
     "output_type": "execute_result"
    }
   ],
   "source": [
    "words = inputDF.select(func.explode(func.split(inputDF.value, \"\\\\W+\")).alias(\"word\"))\n",
    "words.filter(words.word != \"\")"
   ]
  },
  {
   "cell_type": "code",
   "execution_count": 6,
   "id": "9954ed8d",
   "metadata": {},
   "outputs": [],
   "source": [
    "lowercaseWords = words.select(func.lower(words.word).alias(\"word\"))"
   ]
  },
  {
   "cell_type": "code",
   "execution_count": 8,
   "id": "9d27ae37",
   "metadata": {},
   "outputs": [
    {
     "name": "stdout",
     "output_type": "stream",
     "text": [
      "+----------+\n",
      "|      word|\n",
      "+----------+\n",
      "|      self|\n",
      "|employment|\n",
      "|  building|\n",
      "|        an|\n",
      "|  internet|\n",
      "|  business|\n",
      "|        of|\n",
      "|       one|\n",
      "| achieving|\n",
      "| financial|\n",
      "|       and|\n",
      "|  personal|\n",
      "|   freedom|\n",
      "|   through|\n",
      "|         a|\n",
      "| lifestyle|\n",
      "|technology|\n",
      "|  business|\n",
      "|        by|\n",
      "|     frank|\n",
      "+----------+\n",
      "only showing top 20 rows\n",
      "\n"
     ]
    }
   ],
   "source": [
    "lowercaseWords.show()"
   ]
  },
  {
   "cell_type": "code",
   "execution_count": 11,
   "id": "5ecfb67d",
   "metadata": {},
   "outputs": [],
   "source": [
    "wordCounts = lowercaseWords.groupBy(\"word\").count()"
   ]
  },
  {
   "cell_type": "code",
   "execution_count": 12,
   "id": "f0378616",
   "metadata": {},
   "outputs": [],
   "source": [
    "wordCountsSort = wordCounts.sort(\"count\")"
   ]
  },
  {
   "cell_type": "code",
   "execution_count": 15,
   "id": "f042ad84",
   "metadata": {},
   "outputs": [
    {
     "name": "stdout",
     "output_type": "stream",
     "text": [
      "+-------------+-----+\n",
      "|         word|count|\n",
      "+-------------+-----+\n",
      "|          125|    1|\n",
      "| manipulation|    1|\n",
      "|       graphs|    1|\n",
      "|indoctrinated|    1|\n",
      "|       column|    1|\n",
      "|    traveling|    1|\n",
      "|     slightly|    1|\n",
      "| inflammatory|    1|\n",
      "|   variations|    1|\n",
      "|       spared|    1|\n",
      "|          800|    1|\n",
      "|    indicator|    1|\n",
      "|        hires|    1|\n",
      "|           07|    1|\n",
      "|   surrounded|    1|\n",
      "|     retailer|    1|\n",
      "|          fax|    1|\n",
      "|   afterwards|    1|\n",
      "|        boost|    1|\n",
      "|    directors|    1|\n",
      "+-------------+-----+\n",
      "only showing top 20 rows\n",
      "\n"
     ]
    }
   ],
   "source": [
    "wordCountsSort.show()"
   ]
  },
  {
   "cell_type": "code",
   "execution_count": null,
   "id": "c4cebb76",
   "metadata": {},
   "outputs": [],
   "source": []
  }
 ],
 "metadata": {
  "kernelspec": {
   "display_name": "Python 3 (ipykernel)",
   "language": "python",
   "name": "python3"
  },
  "language_info": {
   "codemirror_mode": {
    "name": "ipython",
    "version": 3
   },
   "file_extension": ".py",
   "mimetype": "text/x-python",
   "name": "python",
   "nbconvert_exporter": "python",
   "pygments_lexer": "ipython3",
   "version": "3.9.7"
  }
 },
 "nbformat": 4,
 "nbformat_minor": 5
}
