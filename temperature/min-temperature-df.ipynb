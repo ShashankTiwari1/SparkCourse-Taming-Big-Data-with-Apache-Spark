{
 "cells": [
  {
   "cell_type": "code",
   "execution_count": 1,
   "id": "aabab293",
   "metadata": {},
   "outputs": [],
   "source": [
    "from pyspark.sql import SparkSession\n",
    "from pyspark.sql import functions as func\n",
    "from pyspark.sql.types import StructType, StructField, StringType, IntegerType, FloatType"
   ]
  },
  {
   "cell_type": "code",
   "execution_count": 2,
   "id": "532487f9",
   "metadata": {},
   "outputs": [
    {
     "name": "stderr",
     "output_type": "stream",
     "text": [
      "Setting default log level to \"WARN\".\n",
      "To adjust logging level use sc.setLogLevel(newLevel). For SparkR, use setLogLevel(newLevel).\n"
     ]
    },
    {
     "name": "stdout",
     "output_type": "stream",
     "text": [
      "23/01/18 22:11:02 WARN NativeCodeLoader: Unable to load native-hadoop library for your platform... using builtin-java classes where applicable\n"
     ]
    }
   ],
   "source": [
    "spark = SparkSession.builder.appName(\"minTemperaturedDF\").getOrCreate()"
   ]
  },
  {
   "cell_type": "code",
   "execution_count": 3,
   "id": "4d75bfd6",
   "metadata": {},
   "outputs": [],
   "source": [
    "schema = StructType([\n",
    "    StructField(\"stationId\", StringType(), True), \\\n",
    "    StructField(\"date\", IntegerType(), True), \\\n",
    "    StructField(\"measure_type\", StringType(), True), \\\n",
    "    StructField(\"temperature\", FloatType(), True)\n",
    "])"
   ]
  },
  {
   "cell_type": "code",
   "execution_count": 4,
   "id": "047b307a",
   "metadata": {},
   "outputs": [],
   "source": [
    "inputDf = spark.read.schema(schema).csv(\"1800.csv\")"
   ]
  },
  {
   "cell_type": "code",
   "execution_count": 5,
   "id": "015363ea",
   "metadata": {},
   "outputs": [
    {
     "name": "stdout",
     "output_type": "stream",
     "text": [
      "root\n",
      " |-- stationId: string (nullable = true)\n",
      " |-- date: integer (nullable = true)\n",
      " |-- measure_type: string (nullable = true)\n",
      " |-- temperature: float (nullable = true)\n",
      "\n"
     ]
    }
   ],
   "source": [
    "inputDf.printSchema()"
   ]
  },
  {
   "cell_type": "code",
   "execution_count": 6,
   "id": "1934dbc5",
   "metadata": {},
   "outputs": [
    {
     "name": "stdout",
     "output_type": "stream",
     "text": [
      "+-----------+--------+------------+-----------+\n",
      "|  stationId|    date|measure_type|temperature|\n",
      "+-----------+--------+------------+-----------+\n",
      "|ITE00100554|18000101|        TMIN|     -148.0|\n",
      "|EZE00100082|18000101|        TMIN|     -135.0|\n",
      "|ITE00100554|18000102|        TMIN|     -125.0|\n",
      "|EZE00100082|18000102|        TMIN|     -130.0|\n",
      "|ITE00100554|18000103|        TMIN|      -46.0|\n",
      "|EZE00100082|18000103|        TMIN|      -73.0|\n",
      "|ITE00100554|18000104|        TMIN|      -13.0|\n",
      "|EZE00100082|18000104|        TMIN|      -74.0|\n",
      "|ITE00100554|18000105|        TMIN|       -6.0|\n",
      "|EZE00100082|18000105|        TMIN|      -58.0|\n",
      "|ITE00100554|18000106|        TMIN|       13.0|\n",
      "|EZE00100082|18000106|        TMIN|      -57.0|\n",
      "|ITE00100554|18000107|        TMIN|       10.0|\n",
      "|EZE00100082|18000107|        TMIN|      -50.0|\n",
      "|ITE00100554|18000108|        TMIN|       14.0|\n",
      "|EZE00100082|18000108|        TMIN|      -31.0|\n",
      "|ITE00100554|18000109|        TMIN|       23.0|\n",
      "|EZE00100082|18000109|        TMIN|      -46.0|\n",
      "|ITE00100554|18000110|        TMIN|       31.0|\n",
      "|EZE00100082|18000110|        TMIN|      -75.0|\n",
      "+-----------+--------+------------+-----------+\n",
      "only showing top 20 rows\n",
      "\n"
     ]
    }
   ],
   "source": [
    "minTemps = inputDf.filter(inputDf.measure_type == \"TMIN\")\n",
    "minTemps.show()"
   ]
  },
  {
   "cell_type": "code",
   "execution_count": 7,
   "id": "69e9f88e",
   "metadata": {},
   "outputs": [
    {
     "name": "stdout",
     "output_type": "stream",
     "text": [
      "+-----------+-----------+\n",
      "|  stationId|temperature|\n",
      "+-----------+-----------+\n",
      "|ITE00100554|     -148.0|\n",
      "|EZE00100082|     -135.0|\n",
      "|ITE00100554|     -125.0|\n",
      "|EZE00100082|     -130.0|\n",
      "|ITE00100554|      -46.0|\n",
      "|EZE00100082|      -73.0|\n",
      "|ITE00100554|      -13.0|\n",
      "|EZE00100082|      -74.0|\n",
      "|ITE00100554|       -6.0|\n",
      "|EZE00100082|      -58.0|\n",
      "|ITE00100554|       13.0|\n",
      "|EZE00100082|      -57.0|\n",
      "|ITE00100554|       10.0|\n",
      "|EZE00100082|      -50.0|\n",
      "|ITE00100554|       14.0|\n",
      "|EZE00100082|      -31.0|\n",
      "|ITE00100554|       23.0|\n",
      "|EZE00100082|      -46.0|\n",
      "|ITE00100554|       31.0|\n",
      "|EZE00100082|      -75.0|\n",
      "+-----------+-----------+\n",
      "only showing top 20 rows\n",
      "\n"
     ]
    }
   ],
   "source": [
    "stationTemps = minTemps.select(\"stationId\", \"temperature\")\n",
    "stationTemps.show()"
   ]
  },
  {
   "cell_type": "code",
   "execution_count": 9,
   "id": "c9dadcfd",
   "metadata": {},
   "outputs": [
    {
     "name": "stdout",
     "output_type": "stream",
     "text": [
      "+-----------+----------------+\n",
      "|  stationId|min(temperature)|\n",
      "+-----------+----------------+\n",
      "|ITE00100554|          -148.0|\n",
      "|EZE00100082|          -135.0|\n",
      "+-----------+----------------+\n",
      "\n"
     ]
    }
   ],
   "source": [
    "minTempByStation = stationTemps.groupBy(\"stationId\").min(\"temperature\")\n",
    "minTempByStation.show()"
   ]
  },
  {
   "cell_type": "code",
   "execution_count": 12,
   "id": "958bd264",
   "metadata": {},
   "outputs": [],
   "source": [
    "minTempByStationF = minTempByStation.withColumn(\"temperature\", func.round(func.col(\"min(temperature)\") * 0.1, 2)). \\\n",
    "                    select(\"stationId\", \"temperature\").sort(\"temperature\")"
   ]
  },
  {
   "cell_type": "code",
   "execution_count": 13,
   "id": "53b427a7",
   "metadata": {},
   "outputs": [
    {
     "name": "stdout",
     "output_type": "stream",
     "text": [
      "+-----------+-----------+\n",
      "|  stationId|temperature|\n",
      "+-----------+-----------+\n",
      "|ITE00100554|      -14.8|\n",
      "|EZE00100082|      -13.5|\n",
      "+-----------+-----------+\n",
      "\n"
     ]
    }
   ],
   "source": [
    "minTempByStationF.show()"
   ]
  },
  {
   "cell_type": "code",
   "execution_count": 15,
   "id": "4a3d566a",
   "metadata": {},
   "outputs": [
    {
     "name": "stdout",
     "output_type": "stream",
     "text": [
      "ITE00100554\t-14.80C\n",
      "EZE00100082\t-13.50C\n"
     ]
    }
   ],
   "source": [
    "results = minTempByStationF.collect()\n",
    "\n",
    "for result in results:\n",
    "    print(result[0] +\"\\t{:.2f}C\".format(result[1]))"
   ]
  },
  {
   "cell_type": "code",
   "execution_count": 16,
   "id": "fc0e55c0",
   "metadata": {},
   "outputs": [],
   "source": [
    "spark.stop()"
   ]
  }
 ],
 "metadata": {
  "kernelspec": {
   "display_name": "Python 3 (ipykernel)",
   "language": "python",
   "name": "python3"
  },
  "language_info": {
   "codemirror_mode": {
    "name": "ipython",
    "version": 3
   },
   "file_extension": ".py",
   "mimetype": "text/x-python",
   "name": "python",
   "nbconvert_exporter": "python",
   "pygments_lexer": "ipython3",
   "version": "3.9.7"
  }
 },
 "nbformat": 4,
 "nbformat_minor": 5
}
